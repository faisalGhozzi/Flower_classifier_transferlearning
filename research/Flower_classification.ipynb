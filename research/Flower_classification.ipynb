{
  "nbformat": 4,
  "nbformat_minor": 0,
  "metadata": {
    "colab": {
      "name": "Flower_classification.ipynb",
      "provenance": [],
      "collapsed_sections": []
    },
    "kernelspec": {
      "name": "python3",
      "display_name": "Python 3"
    },
    "language_info": {
      "name": "python"
    },
    "accelerator": "GPU"
  },
  "cells": [
    {
      "cell_type": "code",
      "source": [
        "from google.colab import drive\n",
        "drive.mount('/content/drive')"
      ],
      "metadata": {
        "colab": {
          "base_uri": "https://localhost:8080/"
        },
        "id": "Brd2uEBTdvAZ",
        "outputId": "82270b70-e822-446f-e341-ed14f9e9e504"
      },
      "execution_count": 1,
      "outputs": [
        {
          "output_type": "stream",
          "name": "stdout",
          "text": [
            "Mounted at /content/drive\n"
          ]
        }
      ]
    },
    {
      "cell_type": "code",
      "execution_count": 2,
      "metadata": {
        "id": "dntTLq-Js-KZ"
      },
      "outputs": [],
      "source": [
        "import numpy as np\n",
        "import tensorflow as tf\n",
        "from tensorflow import keras\n",
        "from tensorflow.keras.models import Sequential\n",
        "from tensorflow.keras.layers import InputLayer, Activation, Dense, Flatten, BatchNormalization, Conv2D, MaxPooling2D, MaxPool2D, RandomFlip, RandomZoom, RandomRotation, Rescaling, Dropout\n",
        "from tensorflow.keras.optimizers import Adam\n",
        "from tensorflow.keras.preprocessing.image import ImageDataGenerator\n",
        "from sklearn.metrics import confusion_matrix\n",
        "import itertools\n",
        "import warnings\n",
        "import os\n",
        "import glob\n",
        "import shutil\n",
        "import random\n",
        "import math\n",
        "warnings.simplefilter(action='ignore', category=FutureWarning)"
      ]
    },
    {
      "cell_type": "markdown",
      "source": [
        "Move all the pictures out of their respective folders while renaming them"
      ],
      "metadata": {
        "id": "_qajQf-oOExq"
      }
    },
    {
      "cell_type": "code",
      "source": [
        "for folder in os.listdir('flower_photos'):\n",
        "    for i, file in enumerate(os.listdir('flower_photos/'+folder)):\n",
        "        os.rename('flower_photos/'+folder+'/'+file, 'flower_photos/'+folder+str(i)+'.jpg')"
      ],
      "metadata": {
        "id": "b5EL-_QY-8i8"
      },
      "execution_count": null,
      "outputs": []
    },
    {
      "cell_type": "markdown",
      "source": [
        "Get the count of each type of flower"
      ],
      "metadata": {
        "id": "IHIN2BWhOS9q"
      }
    },
    {
      "cell_type": "code",
      "source": [
        "daisy_count = len(glob.glob('daisy*'))\n",
        "roses_count = len(glob.glob('roses*'))\n",
        "dandelion_count = len(glob.glob('dandelion*'))\n",
        "sunflowers_count = len(glob.glob('sunflowers*'))\n",
        "tulips_count = len(glob.glob('tulips*'))"
      ],
      "metadata": {
        "id": "OGA0kA0OmEVT"
      },
      "execution_count": null,
      "outputs": []
    },
    {
      "cell_type": "markdown",
      "source": [
        "Create new tran, valid and test directories for each type of flower"
      ],
      "metadata": {
        "id": "dRg_I3c_OXyi"
      }
    },
    {
      "cell_type": "code",
      "source": [
        "if os.path.isdir('train/daisy') is False:\n",
        "  os.makedirs('train/daisy')\n",
        "  os.makedirs('train/roses')\n",
        "  os.makedirs('train/dandelion')\n",
        "  os.makedirs('train/sunflowers')\n",
        "  os.makedirs('train/tulips')\n",
        "  os.makedirs('valid/daisy')\n",
        "  os.makedirs('valid/roses')\n",
        "  os.makedirs('valid/dandelion')\n",
        "  os.makedirs('valid/sunflowers')\n",
        "  os.makedirs('valid/tulips')\n",
        "  os.makedirs('test/daisy')\n",
        "  os.makedirs('test/roses')\n",
        "  os.makedirs('test/dandelion')\n",
        "  os.makedirs('test/sunflowers')\n",
        "  os.makedirs('test/tulips')\n",
        "\n",
        "  for c in random.sample(glob.glob('daisy*'), math.floor(daisy_count * 0.75 )):\n",
        "    shutil.move(c, 'train/daisy/')\n",
        "  for c in random.sample(glob.glob('roses*'), math.floor(roses_count * 0.75 )):\n",
        "    shutil.move(c, 'train/roses/')\n",
        "  for c in random.sample(glob.glob('dandelion*'), math.floor(dandelion_count * 0.75 )):\n",
        "    shutil.move(c, 'train/dandelion/')\n",
        "  for c in random.sample(glob.glob('sunflowers*'), math.floor(sunflowers_count * 0.75 )):\n",
        "    shutil.move(c, 'train/sunflowers/')\n",
        "  for c in random.sample(glob.glob('tulips*'), math.floor(tulips_count * 0.75 )):\n",
        "    shutil.move(c, 'train/tulips/')\n",
        "\n",
        "  for c in random.sample(glob.glob('daisy*'), math.floor(daisy_count * 0.15 )):\n",
        "    shutil.move(c, 'valid/daisy/')\n",
        "  for c in random.sample(glob.glob('roses*'), math.floor(roses_count * 0.15 )):\n",
        "    shutil.move(c, 'valid/roses/')\n",
        "  for c in random.sample(glob.glob('dandelion*'), math.floor(dandelion_count * 0.15 )):\n",
        "    shutil.move(c, 'valid/dandelion/')\n",
        "  for c in random.sample(glob.glob('sunflowers*'), math.floor(sunflowers_count * 0.15 )):\n",
        "    shutil.move(c, 'valid/sunflowers/')\n",
        "  for c in random.sample(glob.glob('tulips*'), math.floor(tulips_count * 0.15 )):\n",
        "    shutil.move(c, 'valid/tulips/')\n",
        "\n",
        "  for c in random.sample(glob.glob('daisy*'), math.floor(daisy_count * 0.10 )):\n",
        "    shutil.move(c, 'test/daisy/')\n",
        "  for c in random.sample(glob.glob('roses*'), math.floor(roses_count * 0.10 )):\n",
        "    shutil.move(c, 'test/roses/')\n",
        "  for c in random.sample(glob.glob('dandelion*'), math.floor(dandelion_count * 0.10 )):\n",
        "    shutil.move(c, 'test/dandelion/')\n",
        "  for c in random.sample(glob.glob('sunflowers*'), math.floor(sunflowers_count * 0.10 )):\n",
        "    shutil.move(c, 'test/sunflowers/')\n",
        "  for c in random.sample(glob.glob('tulips*'), math.floor(tulips_count * 0.10 )):\n",
        "    shutil.move(c, 'test/tulips/')"
      ],
      "metadata": {
        "id": "LkbqYIhbhbYY"
      },
      "execution_count": null,
      "outputs": []
    },
    {
      "cell_type": "code",
      "source": [
        "os.chdir('drive/MyDrive')"
      ],
      "metadata": {
        "id": "EuZBBTVm6LuB"
      },
      "execution_count": 3,
      "outputs": []
    },
    {
      "cell_type": "markdown",
      "source": [
        "Specify the train, valid and test paths"
      ],
      "metadata": {
        "id": "lJN4eIqpOer_"
      }
    },
    {
      "cell_type": "code",
      "source": [
        "train_path = 'data/flower_photos/train'\n",
        "valid_path = 'data/flower_photos/valid'\n",
        "test_path = 'data/flower_photos/test'"
      ],
      "metadata": {
        "id": "vvIybU1l2CFm"
      },
      "execution_count": 4,
      "outputs": []
    },
    {
      "cell_type": "markdown",
      "source": [
        "Generate Batches with target size (224,224) to train our new model"
      ],
      "metadata": {
        "id": "NR6eW_HBOkVH"
      }
    },
    {
      "cell_type": "code",
      "source": [
        "train_batches = ImageDataGenerator(preprocessing_function=tf.keras.applications.vgg16.preprocess_input) \\\n",
        "                  .flow_from_directory(directory=train_path, target_size=(224,224), classes=['daisy', 'dandelion', 'roses', 'sunflowers', 'tulips'], batch_size=32)\n",
        "valid_batches = ImageDataGenerator(preprocessing_function=tf.keras.applications.vgg16.preprocess_input) \\\n",
        "                  .flow_from_directory(directory=valid_path, target_size=(224,224), classes=['daisy', 'dandelion', 'roses', 'sunflowers', 'tulips'], batch_size=32)\n",
        "test_batches = ImageDataGenerator(preprocessing_function=tf.keras.applications.vgg16.preprocess_input) \\\n",
        "                  .flow_from_directory(directory=test_path, target_size=(224,224), classes=['daisy', 'dandelion', 'roses', 'sunflowers', 'tulips'], batch_size=32, shuffle=False)"
      ],
      "metadata": {
        "colab": {
          "base_uri": "https://localhost:8080/"
        },
        "id": "fF8YhcmG6OSP",
        "outputId": "1a87a51d-a399-4355-dd15-d19c40192b24"
      },
      "execution_count": 5,
      "outputs": [
        {
          "output_type": "stream",
          "name": "stdout",
          "text": [
            "Found 2697 images belonging to 5 classes.\n",
            "Found 537 images belonging to 5 classes.\n",
            "Found 358 images belonging to 5 classes.\n"
          ]
        }
      ]
    },
    {
      "cell_type": "markdown",
      "source": [
        "I chose to use the transfer learning technique because it's the most effecient method"
      ],
      "metadata": {
        "id": "bghAkJfLOqq7"
      }
    },
    {
      "cell_type": "code",
      "source": [
        "model_vgg16 = tf.keras.applications.vgg16.VGG16()"
      ],
      "metadata": {
        "id": "yH7k69OfCyhV",
        "colab": {
          "base_uri": "https://localhost:8080/"
        },
        "outputId": "217fcac7-c286-4edb-83a0-5cf066a763c4"
      },
      "execution_count": 6,
      "outputs": [
        {
          "output_type": "stream",
          "name": "stdout",
          "text": [
            "Downloading data from https://storage.googleapis.com/tensorflow/keras-applications/vgg16/vgg16_weights_tf_dim_ordering_tf_kernels.h5\n",
            "553467904/553467096 [==============================] - 5s 0us/step\n",
            "553476096/553467096 [==============================] - 5s 0us/step\n"
          ]
        }
      ]
    },
    {
      "cell_type": "code",
      "source": [
        "model = Sequential()\n",
        "for layer in model_vgg16.layers[:-1]:\n",
        "    model.add(layer)"
      ],
      "metadata": {
        "id": "HSJGOlUmGd-M"
      },
      "execution_count": 7,
      "outputs": []
    },
    {
      "cell_type": "code",
      "source": [
        "for layer in model.layers:\n",
        "    layer.trainable = False\n",
        "model.add(Dense(units = 5, activation='softmax'))"
      ],
      "metadata": {
        "id": "p3fJOMV7Gzf8"
      },
      "execution_count": 8,
      "outputs": []
    },
    {
      "cell_type": "code",
      "source": [
        "model.compile(optimizer=Adam(learning_rate=0.0001), loss='categorical_crossentropy', metrics=['accuracy'])"
      ],
      "metadata": {
        "id": "sQzpuTiAsSb2"
      },
      "execution_count": 9,
      "outputs": []
    },
    {
      "cell_type": "code",
      "source": [
        "history = model.fit(x=train_batches, validation_data=valid_batches, epochs=20, verbose=2)"
      ],
      "metadata": {
        "id": "3CiwB2k2ujHs",
        "colab": {
          "base_uri": "https://localhost:8080/"
        },
        "outputId": "cc3002c5-d1f4-4a61-ece8-9584ad06422b"
      },
      "execution_count": 10,
      "outputs": [
        {
          "output_type": "stream",
          "name": "stdout",
          "text": [
            "Epoch 1/20\n",
            "85/85 - 1390s - loss: 1.2197 - accuracy: 0.5677 - val_loss: 0.7760 - val_accuracy: 0.7039 - 1390s/epoch - 16s/step\n",
            "Epoch 2/20\n",
            "85/85 - 25s - loss: 0.6029 - accuracy: 0.7846 - val_loss: 0.5926 - val_accuracy: 0.7803 - 25s/epoch - 293ms/step\n",
            "Epoch 3/20\n",
            "85/85 - 25s - loss: 0.4767 - accuracy: 0.8242 - val_loss: 0.5217 - val_accuracy: 0.8045 - 25s/epoch - 294ms/step\n",
            "Epoch 4/20\n",
            "85/85 - 25s - loss: 0.4037 - accuracy: 0.8517 - val_loss: 0.4858 - val_accuracy: 0.8212 - 25s/epoch - 294ms/step\n",
            "Epoch 5/20\n",
            "85/85 - 25s - loss: 0.3589 - accuracy: 0.8736 - val_loss: 0.4670 - val_accuracy: 0.8287 - 25s/epoch - 295ms/step\n",
            "Epoch 6/20\n",
            "85/85 - 25s - loss: 0.3214 - accuracy: 0.8902 - val_loss: 0.4436 - val_accuracy: 0.8399 - 25s/epoch - 292ms/step\n",
            "Epoch 7/20\n",
            "85/85 - 25s - loss: 0.2934 - accuracy: 0.8962 - val_loss: 0.4358 - val_accuracy: 0.8361 - 25s/epoch - 294ms/step\n",
            "Epoch 8/20\n",
            "85/85 - 25s - loss: 0.2674 - accuracy: 0.9077 - val_loss: 0.4299 - val_accuracy: 0.8417 - 25s/epoch - 293ms/step\n",
            "Epoch 9/20\n",
            "85/85 - 25s - loss: 0.2456 - accuracy: 0.9199 - val_loss: 0.4199 - val_accuracy: 0.8454 - 25s/epoch - 290ms/step\n",
            "Epoch 10/20\n",
            "85/85 - 25s - loss: 0.2266 - accuracy: 0.9236 - val_loss: 0.4141 - val_accuracy: 0.8399 - 25s/epoch - 291ms/step\n",
            "Epoch 11/20\n",
            "85/85 - 25s - loss: 0.2124 - accuracy: 0.9351 - val_loss: 0.4035 - val_accuracy: 0.8473 - 25s/epoch - 289ms/step\n",
            "Epoch 12/20\n",
            "85/85 - 25s - loss: 0.1964 - accuracy: 0.9418 - val_loss: 0.4045 - val_accuracy: 0.8454 - 25s/epoch - 290ms/step\n",
            "Epoch 13/20\n",
            "85/85 - 25s - loss: 0.1843 - accuracy: 0.9485 - val_loss: 0.3995 - val_accuracy: 0.8510 - 25s/epoch - 290ms/step\n",
            "Epoch 14/20\n",
            "85/85 - 25s - loss: 0.1707 - accuracy: 0.9544 - val_loss: 0.3991 - val_accuracy: 0.8473 - 25s/epoch - 292ms/step\n",
            "Epoch 15/20\n",
            "85/85 - 25s - loss: 0.1609 - accuracy: 0.9618 - val_loss: 0.3904 - val_accuracy: 0.8529 - 25s/epoch - 292ms/step\n",
            "Epoch 16/20\n",
            "85/85 - 25s - loss: 0.1507 - accuracy: 0.9626 - val_loss: 0.3928 - val_accuracy: 0.8529 - 25s/epoch - 292ms/step\n",
            "Epoch 17/20\n",
            "85/85 - 25s - loss: 0.1417 - accuracy: 0.9670 - val_loss: 0.3896 - val_accuracy: 0.8510 - 25s/epoch - 292ms/step\n",
            "Epoch 18/20\n",
            "85/85 - 25s - loss: 0.1345 - accuracy: 0.9707 - val_loss: 0.3854 - val_accuracy: 0.8510 - 25s/epoch - 291ms/step\n",
            "Epoch 19/20\n",
            "85/85 - 25s - loss: 0.1275 - accuracy: 0.9748 - val_loss: 0.3827 - val_accuracy: 0.8492 - 25s/epoch - 291ms/step\n",
            "Epoch 20/20\n",
            "85/85 - 25s - loss: 0.1194 - accuracy: 0.9763 - val_loss: 0.3776 - val_accuracy: 0.8622 - 25s/epoch - 291ms/step\n"
          ]
        }
      ]
    },
    {
      "cell_type": "code",
      "source": [
        "predictions = model.predict(x=test_batches, verbose=0)"
      ],
      "metadata": {
        "id": "8Hq2Gp5ovTYk"
      },
      "execution_count": 11,
      "outputs": []
    },
    {
      "cell_type": "markdown",
      "source": [
        "Model Evaluation metrics"
      ],
      "metadata": {
        "id": "2kg4VvhAZOY4"
      }
    },
    {
      "cell_type": "code",
      "source": [
        "from sklearn.metrics import confusion_matrix, plot_confusion_matrix\n",
        "import matplotlib.pyplot as plt"
      ],
      "metadata": {
        "id": "eQ2Vbz43wGNw"
      },
      "execution_count": 13,
      "outputs": []
    },
    {
      "cell_type": "code",
      "source": [
        "cm = confusion_matrix(y_true=test_batches.classes, y_pred=np.argmax(predictions, axis=-1))"
      ],
      "metadata": {
        "id": "RYv37-3QwIDV"
      },
      "execution_count": 14,
      "outputs": []
    },
    {
      "cell_type": "code",
      "source": [
        "def plot_confusion_matrix(cm, classes, normalize=False, title='Confusion Matrix', cmap=plt.cm.Reds):\n",
        "  plt.imshow(cm, interpolation='nearest', cmap=cmap)\n",
        "  plt.title(title)\n",
        "  plt.colorbar()\n",
        "  tick_marks = np.arange(len(classes))\n",
        "  plt.xticks(tick_marks, classes, rotation=45)\n",
        "  plt.yticks(tick_marks, classes)\n",
        "\n",
        "  if normalize:\n",
        "    cm = cm.astype('float') / cm.sum(axis=1)[:, np.newaxis]\n",
        "    print(\"Normalized confusion matrix\")\n",
        "  else:\n",
        "    print(\"Confusion matrix, w/o normalization\")\n",
        "\n",
        "  thresh = cm.max() / 2.\n",
        "\n",
        "  for i,j in itertools.product(range(cm.shape[0]), range(cm.shape[1])):\n",
        "    plt.text(j, i, cm[i, j], color=\"white\" if cm[i, j] > thresh else \"black\")\n",
        "  plt.tight_layout()\n",
        "  plt.ylabel('True label')\n",
        "  plt.xlabel('Predicted label')"
      ],
      "metadata": {
        "id": "HmVku5QTwyet"
      },
      "execution_count": 15,
      "outputs": []
    },
    {
      "cell_type": "code",
      "source": [
        "cm_plot_labels = ['daisy', 'dandelion', \"roses\", \"sunflowers\", 'tulips']\n",
        "plot_confusion_matrix(cm=cm, classes=cm_plot_labels)"
      ],
      "metadata": {
        "colab": {
          "base_uri": "https://localhost:8080/",
          "height": 328
        },
        "id": "xOJqx3WTydTW",
        "outputId": "5eb741af-a216-414f-ce98-11d8a74bbc48"
      },
      "execution_count": 16,
      "outputs": [
        {
          "output_type": "stream",
          "name": "stdout",
          "text": [
            "Confusion matrix, w/o normalization\n"
          ]
        },
        {
          "output_type": "display_data",
          "data": {
            "image/png": "[encoded data removed]",
            "text/plain": [
              "<Figure size 432x288 with 2 Axes>"
            ]
          },
          "metadata": {
            "needs_background": "light"
          }
        }
      ]
    },
    {
      "cell_type": "code",
      "source": [
        "import matplotlib.pyplot as plt\n",
        "loss_curve = history.history[\"loss\"]\n",
        "acc_curve = history.history[\"accuracy\"]\n",
        "loss_val_curve = history.history[\"val_loss\"]\n",
        "acc_val_curve = history.history[\"val_accuracy\"]\n",
        "plt.plot(loss_curve, label=\"Train\")\n",
        "plt.plot(loss_val_curve, label=\"Val\")\n",
        "plt.legend(loc='upper left')\n",
        "plt.title(\"Loss\")\n",
        "plt.show()\n",
        "plt.plot(acc_curve, label=\"Train\")\n",
        "plt.plot(acc_val_curve, label=\"Val\")\n",
        "plt.legend(loc='upper left')\n",
        "plt.title(\"Accuracy\")\n",
        "plt.show()\n",
        "\n",
        "\n"
      ],
      "metadata": {
        "id": "--dzV-efHGNt",
        "colab": {
          "base_uri": "https://localhost:8080/",
          "height": 545
        },
        "outputId": "dbc1e258-7bba-40cd-a35c-8453b7c630ec"
      },
      "execution_count": 17,
      "outputs": [
        {
          "output_type": "display_data",
          "data": {
            "image/png": "[encoded data removed]",
            "text/plain": [
              "<Figure size 432x288 with 1 Axes>"
            ]
          },
          "metadata": {
            "needs_background": "light"
          }
        },
        {
          "output_type": "display_data",
          "data": {
            "image/png": "[encoded data removed]",
            "text/plain": [
              "<Figure size 432x288 with 1 Axes>"
            ]
          },
          "metadata": {
            "needs_background": "light"
          }
        }
      ]
    },
    {
      "cell_type": "code",
      "source": [
        "test_imgs, test_labels = next(test_batches)\n",
        "loss, acc = model.evaluate(test_imgs, test_labels)\n",
        "print(\"Test Loss\", loss)\n",
        "print(\"Test Accuracy\", acc)"
      ],
      "metadata": {
        "colab": {
          "base_uri": "https://localhost:8080/"
        },
        "id": "sug9dZ8dNuLu",
        "outputId": "72f360e3-ed76-4e77-d30c-dfa96fb3f058"
      },
      "execution_count": 18,
      "outputs": [
        {
          "output_type": "stream",
          "name": "stdout",
          "text": [
            "1/1 [==============================] - 1s 529ms/step - loss: 0.5771 - accuracy: 0.8125\n",
            "Test Loss 0.577120840549469\n",
            "Test Accuracy 0.8125\n"
          ]
        }
      ]
    },
    {
      "cell_type": "markdown",
      "source": [
        "We reached an accuracy of 81% without overfitting"
      ],
      "metadata": {
        "id": "MD9mU_iDanY6"
      }
    },
    {
      "cell_type": "code",
      "source": [
        "os.chdir('../../')"
      ],
      "metadata": {
        "colab": {
          "base_uri": "https://localhost:8080/",
          "height": 35
        },
        "id": "mOwOPRCayQ-Q",
        "outputId": "537b535d-abd7-4b6e-a10f-e6a8b96b4c8d"
      },
      "execution_count": null,
      "outputs": [
        {
          "output_type": "execute_result",
          "data": {
            "application/vnd.google.colaboratory.intrinsic+json": {
              "type": "string"
            },
            "text/plain": [
              "'/content'"
            ]
          },
          "metadata": {},
          "execution_count": 54
        }
      ]
    },
    {
      "cell_type": "markdown",
      "source": [
        "Model extraction"
      ],
      "metadata": {
        "id": "Mun19jm0ao38"
      }
    },
    {
      "cell_type": "code",
      "source": [
        "model.save('custom_model')"
      ],
      "metadata": {
        "colab": {
          "base_uri": "https://localhost:8080/"
        },
        "id": "t_hscOot1jnx",
        "outputId": "f58d9904-f8db-454e-8d59-ad3594f0e010"
      },
      "execution_count": null,
      "outputs": [
        {
          "output_type": "stream",
          "name": "stdout",
          "text": [
            "INFO:tensorflow:Assets written to: custom_model/assets\n"
          ]
        }
      ]
    },
    {
      "cell_type": "code",
      "source": [
        ""
      ],
      "metadata": {
        "id": "5MP5ZrNK7LQl"
      },
      "execution_count": null,
      "outputs": []
    }
  ]
}